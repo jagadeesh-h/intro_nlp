{
 "cells": [
  {
   "cell_type": "code",
   "execution_count": null,
   "metadata": {},
   "outputs": [],
   "source": [
    "### Graveyard\n",
    "## visudalize complaint product type\n",
    "plt.figure(figsize=(15,5))\n",
    "sns.countplot(df['Product'])\n",
    "plt.xticks(rotation=30)\n",
    "plt.show()\n",
    "\n",
    "## visualize complaint for company type\n",
    "plt.figure(figsize=(20,5))\n",
    "sns.barplot(df['Company'].value_counts()[:10].index,df['Company'].value_counts()[:10].values)\n",
    "plt.xticks(rotation=60)\n",
    "plt.show()\n",
    "\n",
    "## Convert date/time columns from string to date time objects\n",
    "df['Date received'] = pd.to_datetime(df['Date received'])\n",
    "df['Date sent to company'] = pd.to_datetime(df['Date sent to company'])\n",
    "\n",
    "#train/test splitting\n",
    "#split dataStg into train/ test\n",
    "train, test= train_test_split(df,test_size=.2)\n",
    "\n",
    "# recreate index in test and train sets so we can run through the text processing function\n",
    "train.reset_index(drop=True, inplace=True)\n",
    "test.reset_index(drop=True, inplace=True)"
   ]
  }
 ],
 "metadata": {
  "kernelspec": {
   "display_name": "Python 3",
   "language": "python",
   "name": "python3"
  },
  "language_info": {
   "codemirror_mode": {
    "name": "ipython",
    "version": 3
   },
   "file_extension": ".py",
   "mimetype": "text/x-python",
   "name": "python",
   "nbconvert_exporter": "python",
   "pygments_lexer": "ipython3",
   "version": "3.7.4"
  }
 },
 "nbformat": 4,
 "nbformat_minor": 2
}
